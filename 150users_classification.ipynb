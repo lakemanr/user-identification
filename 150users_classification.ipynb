{
 "cells": [
  {
   "cell_type": "code",
   "execution_count": 24,
   "metadata": {
    "collapsed": true
   },
   "outputs": [],
   "source": [
    "import os\n",
    "import numpy as np\n",
    "import pandas as pd\n",
    "import pickle\n",
    "from sklearn.linear_model import LogisticRegression\n",
    "from sklearn.feature_extraction.text import TfidfTransformer\n",
    "from sklearn.metrics import roc_auc_score\n",
    "from scipy.sparse import csr_matrix, hstack\n",
    "from sklearn.linear_model import LogisticRegression, LogisticRegressionCV\n",
    "from sklearn.model_selection import train_test_split"
   ]
  },
  {
   "cell_type": "code",
   "execution_count": 40,
   "metadata": {
    "collapsed": true
   },
   "outputs": [],
   "source": [
    "def mean_roc_auc(y,x,estimator):\n",
    "    rocs = []\n",
    "    for i in range(150):\n",
    "        y_binary = [1 if user_id==i+1 else 0 for user_id in y]\n",
    "        pred_for_y_binary = estimator.predict_proba(x)[:,i]\n",
    "        rocs.append(roc_auc_score(y_binary,pred_for_y_binary))\n",
    "    return sum(rocs)/150"
   ]
  },
  {
   "cell_type": "code",
   "execution_count": 3,
   "metadata": {
    "collapsed": true
   },
   "outputs": [],
   "source": [
    "PATH_TO_DATA = ('/Users/Roman/Documents/Machine_Learning_and_Data_Analysis.MPTI' +\n",
    "                '/6_course/User_Identification/Week_1/capstone_user_identification')"
   ]
  },
  {
   "cell_type": "code",
   "execution_count": 7,
   "metadata": {
    "collapsed": false
   },
   "outputs": [],
   "source": [
    "#загрука матриц частот сайтов (\"мешка слов\") для выборки из 150 пользователей\n",
    "with open(os.path.join(PATH_TO_DATA, 'X_sparse_150users.pkl'), 'rb') as X_sparse_150users_pkl:\n",
    "    X_sparse_150users = pickle.load(X_sparse_150users_pkl)\n",
    "with open(os.path.join(PATH_TO_DATA, 'y_150users.pkl'), 'rb') as y_150users_pkl:\n",
    "    y_150users = pickle.load(y_150users_pkl)"
   ]
  },
  {
   "cell_type": "code",
   "execution_count": 198,
   "metadata": {
    "collapsed": false
   },
   "outputs": [
    {
     "data": {
      "text/plain": [
       "LogisticRegression(C=1, class_weight=None, dual=False, fit_intercept=True,\n",
       "          intercept_scaling=1, max_iter=100, multi_class='ovr', n_jobs=-1,\n",
       "          penalty='l2', random_state=17, solver='liblinear', tol=0.0001,\n",
       "          verbose=0, warm_start=False)"
      ]
     },
     "execution_count": 198,
     "metadata": {},
     "output_type": "execute_result"
    }
   ],
   "source": [
    "#логит на \"мешке слов\"\n",
    "\n",
    "X_train, X_valid, y_train, y_valid = train_test_split(X_sparse_150users, y_150users, \n",
    "                                                      test_size=0.3, \n",
    "                                                      random_state=17, stratify=y_150users)\n",
    "\n",
    "logit = LogisticRegression(C=1,multi_class='ovr',n_jobs=-1,random_state=17)\n",
    "logit.fit(X_train, y_train)"
   ]
  },
  {
   "cell_type": "code",
   "execution_count": 201,
   "metadata": {
    "collapsed": false
   },
   "outputs": [
    {
     "data": {
      "text/plain": [
       "0.95495671895934875"
      ]
     },
     "execution_count": 201,
     "metadata": {},
     "output_type": "execute_result"
    }
   ],
   "source": [
    "mean_roc_auc_base = mean_roc_auc(y_valid,X_valid,logit)\n",
    "mean_roc_auc_base"
   ]
  },
  {
   "cell_type": "code",
   "execution_count": 205,
   "metadata": {
    "collapsed": false
   },
   "outputs": [
    {
     "data": {
      "text/plain": [
       "LogisticRegression(C=1, class_weight=None, dual=False, fit_intercept=True,\n",
       "          intercept_scaling=1, max_iter=100, multi_class='ovr', n_jobs=-1,\n",
       "          penalty='l2', random_state=17, solver='liblinear', tol=0.0001,\n",
       "          verbose=0, warm_start=False)"
      ]
     },
     "execution_count": 205,
     "metadata": {},
     "output_type": "execute_result"
    }
   ],
   "source": [
    "#логит на TF-IDF\n",
    "\n",
    "vectorizer = TfidfTransformer(use_idf=True,smooth_idf=False)\n",
    "vectorizer.fit(X_sparse_150users)\n",
    "\n",
    "X_sparse_tf_idf = vectorizer.transform(X_sparse_150users)\n",
    "\n",
    "X_train, X_valid, y_train, y_valid = train_test_split(X_sparse_tf_idf, y_150users, \n",
    "                                                      test_size=0.3, \n",
    "                                                      random_state=17, stratify=y_150users)\n",
    "\n",
    "logit_tf_idf = LogisticRegression(C=1,multi_class='ovr',n_jobs=-1,random_state=17)\n",
    "logit_tf_idf.fit(X_train, y_train)"
   ]
  },
  {
   "cell_type": "code",
   "execution_count": 206,
   "metadata": {
    "collapsed": false
   },
   "outputs": [
    {
     "data": {
      "text/plain": [
       "0.94594848990675073"
      ]
     },
     "execution_count": 206,
     "metadata": {},
     "output_type": "execute_result"
    }
   ],
   "source": [
    "mean_roc_auc_tf_idf = mean_roc_auc(y_valid,X_valid,logit_tf_idf)\n",
    "mean_roc_auc_tf_idf"
   ]
  },
  {
   "cell_type": "code",
   "execution_count": 6,
   "metadata": {
    "collapsed": false
   },
   "outputs": [
    {
     "data": {
      "text/html": [
       "<div>\n",
       "<style>\n",
       "    .dataframe thead tr:only-child th {\n",
       "        text-align: right;\n",
       "    }\n",
       "\n",
       "    .dataframe thead th {\n",
       "        text-align: left;\n",
       "    }\n",
       "\n",
       "    .dataframe tbody tr th {\n",
       "        vertical-align: top;\n",
       "    }\n",
       "</style>\n",
       "<table border=\"1\" class=\"dataframe\">\n",
       "  <thead>\n",
       "    <tr style=\"text-align: right;\">\n",
       "      <th></th>\n",
       "      <th>session_timespan</th>\n",
       "      <th>#unique_sites</th>\n",
       "      <th>start_hour</th>\n",
       "      <th>day_of_week</th>\n",
       "    </tr>\n",
       "  </thead>\n",
       "  <tbody>\n",
       "    <tr>\n",
       "      <th>0</th>\n",
       "      <td>57</td>\n",
       "      <td>5</td>\n",
       "      <td>8</td>\n",
       "      <td>4</td>\n",
       "    </tr>\n",
       "    <tr>\n",
       "      <th>1</th>\n",
       "      <td>1618</td>\n",
       "      <td>8</td>\n",
       "      <td>8</td>\n",
       "      <td>4</td>\n",
       "    </tr>\n",
       "    <tr>\n",
       "      <th>2</th>\n",
       "      <td>2010</td>\n",
       "      <td>5</td>\n",
       "      <td>8</td>\n",
       "      <td>4</td>\n",
       "    </tr>\n",
       "    <tr>\n",
       "      <th>3</th>\n",
       "      <td>2006</td>\n",
       "      <td>4</td>\n",
       "      <td>9</td>\n",
       "      <td>4</td>\n",
       "    </tr>\n",
       "    <tr>\n",
       "      <th>4</th>\n",
       "      <td>10</td>\n",
       "      <td>5</td>\n",
       "      <td>9</td>\n",
       "      <td>4</td>\n",
       "    </tr>\n",
       "  </tbody>\n",
       "</table>\n",
       "</div>"
      ],
      "text/plain": [
       "   session_timespan  #unique_sites  start_hour  day_of_week\n",
       "0                57              5           8            4\n",
       "1              1618              8           8            4\n",
       "2              2010              5           8            4\n",
       "3              2006              4           9            4\n",
       "4                10              5           9            4"
      ]
     },
     "execution_count": 6,
     "metadata": {},
     "output_type": "execute_result"
    }
   ],
   "source": [
    "#загрузка основных признаков\n",
    "with open(os.path.join(PATH_TO_DATA,'new_features_150users.pkl'), 'rb') as f:\n",
    "    main_features = pickle.load(f)\n",
    "\n",
    "main_features.head()"
   ]
  },
  {
   "cell_type": "code",
   "execution_count": 7,
   "metadata": {
    "collapsed": false
   },
   "outputs": [
    {
     "data": {
      "text/html": [
       "<div>\n",
       "<style>\n",
       "    .dataframe thead tr:only-child th {\n",
       "        text-align: right;\n",
       "    }\n",
       "\n",
       "    .dataframe thead th {\n",
       "        text-align: left;\n",
       "    }\n",
       "\n",
       "    .dataframe tbody tr th {\n",
       "        vertical-align: top;\n",
       "    }\n",
       "</style>\n",
       "<table border=\"1\" class=\"dataframe\">\n",
       "  <thead>\n",
       "    <tr style=\"text-align: right;\">\n",
       "      <th></th>\n",
       "      <th>session_timespan</th>\n",
       "      <th>#unique_sites</th>\n",
       "      <th>start_hour</th>\n",
       "      <th>day_of_week</th>\n",
       "    </tr>\n",
       "  </thead>\n",
       "  <tbody>\n",
       "    <tr>\n",
       "      <th>0</th>\n",
       "      <td>-0.164929</td>\n",
       "      <td>-0.580513</td>\n",
       "      <td>-1.471501</td>\n",
       "      <td>1.358234</td>\n",
       "    </tr>\n",
       "    <tr>\n",
       "      <th>1</th>\n",
       "      <td>-0.020534</td>\n",
       "      <td>0.745713</td>\n",
       "      <td>-1.471501</td>\n",
       "      <td>1.358234</td>\n",
       "    </tr>\n",
       "    <tr>\n",
       "      <th>2</th>\n",
       "      <td>0.015727</td>\n",
       "      <td>-0.580513</td>\n",
       "      <td>-1.471501</td>\n",
       "      <td>1.358234</td>\n",
       "    </tr>\n",
       "    <tr>\n",
       "      <th>3</th>\n",
       "      <td>0.015357</td>\n",
       "      <td>-1.022588</td>\n",
       "      <td>-1.167433</td>\n",
       "      <td>1.358234</td>\n",
       "    </tr>\n",
       "    <tr>\n",
       "      <th>4</th>\n",
       "      <td>-0.169276</td>\n",
       "      <td>-0.580513</td>\n",
       "      <td>-1.167433</td>\n",
       "      <td>1.358234</td>\n",
       "    </tr>\n",
       "  </tbody>\n",
       "</table>\n",
       "</div>"
      ],
      "text/plain": [
       "   session_timespan  #unique_sites  start_hour  day_of_week\n",
       "0         -0.164929      -0.580513   -1.471501     1.358234\n",
       "1         -0.020534       0.745713   -1.471501     1.358234\n",
       "2          0.015727      -0.580513   -1.471501     1.358234\n",
       "3          0.015357      -1.022588   -1.167433     1.358234\n",
       "4         -0.169276      -0.580513   -1.167433     1.358234"
      ]
     },
     "execution_count": 7,
     "metadata": {},
     "output_type": "execute_result"
    }
   ],
   "source": [
    "#нормализация признаков\n",
    "def norm(X):\n",
    "    m = np.mean(X)\n",
    "    st = np.std(X)\n",
    "    return [(x-m)/st for x in X]\n",
    "\n",
    "main_features_norm = main_features.apply(norm)\n",
    "main_features_norm.head()"
   ]
  },
  {
   "cell_type": "code",
   "execution_count": 223,
   "metadata": {
    "collapsed": false
   },
   "outputs": [
    {
     "data": {
      "text/plain": [
       "LogisticRegression(C=1, class_weight=None, dual=False, fit_intercept=True,\n",
       "          intercept_scaling=1, max_iter=100, multi_class='ovr', n_jobs=-1,\n",
       "          penalty='l2', random_state=17, solver='liblinear', tol=0.0001,\n",
       "          verbose=0, warm_start=False)"
      ]
     },
     "execution_count": 223,
     "metadata": {},
     "output_type": "execute_result"
    }
   ],
   "source": [
    "#логит на матрице частот слов и основных признаках\n",
    "\n",
    "X_sparse_150user_extended = hstack([X_sparse_150users,main_features_norm]).tocsr()\n",
    "X_train, X_valid, y_train, y_valid = train_test_split(X_sparse_150user_extended, y_150users, \n",
    "                                                      test_size=0.3, \n",
    "                                                      random_state=17, stratify=y_150users)\n",
    "\n",
    "logit_extended = LogisticRegression(C=1,multi_class='ovr',n_jobs=-1,random_state=17)\n",
    "logit_extended.fit(X_train, y_train)"
   ]
  },
  {
   "cell_type": "code",
   "execution_count": 224,
   "metadata": {
    "collapsed": false
   },
   "outputs": [
    {
     "data": {
      "text/plain": [
       "0.95983936496093136"
      ]
     },
     "execution_count": 224,
     "metadata": {},
     "output_type": "execute_result"
    }
   ],
   "source": [
    "mean_roc_auc_extended = mean_roc_auc(y_valid,X_valid,logit_extended)\n",
    "mean_roc_auc_extended"
   ]
  },
  {
   "cell_type": "code",
   "execution_count": 8,
   "metadata": {
    "collapsed": false
   },
   "outputs": [
    {
     "data": {
      "text/html": [
       "<div>\n",
       "<style>\n",
       "    .dataframe thead tr:only-child th {\n",
       "        text-align: right;\n",
       "    }\n",
       "\n",
       "    .dataframe thead th {\n",
       "        text-align: left;\n",
       "    }\n",
       "\n",
       "    .dataframe tbody tr th {\n",
       "        vertical-align: top;\n",
       "    }\n",
       "</style>\n",
       "<table border=\"1\" class=\"dataframe\">\n",
       "  <thead>\n",
       "    <tr style=\"text-align: right;\">\n",
       "      <th></th>\n",
       "      <th>top_site_share</th>\n",
       "      <th>max_diff</th>\n",
       "      <th>top_site_time_share</th>\n",
       "      <th>num_of_small_time</th>\n",
       "    </tr>\n",
       "  </thead>\n",
       "  <tbody>\n",
       "    <tr>\n",
       "      <th>0</th>\n",
       "      <td>0.60</td>\n",
       "      <td>49</td>\n",
       "      <td>1.000000</td>\n",
       "      <td>0</td>\n",
       "    </tr>\n",
       "    <tr>\n",
       "      <th>1</th>\n",
       "      <td>0.25</td>\n",
       "      <td>1504</td>\n",
       "      <td>0.000000</td>\n",
       "      <td>1</td>\n",
       "    </tr>\n",
       "    <tr>\n",
       "      <th>2</th>\n",
       "      <td>0.40</td>\n",
       "      <td>1917</td>\n",
       "      <td>0.048841</td>\n",
       "      <td>3</td>\n",
       "    </tr>\n",
       "    <tr>\n",
       "      <th>3</th>\n",
       "      <td>0.25</td>\n",
       "      <td>1460</td>\n",
       "      <td>0.004978</td>\n",
       "      <td>1</td>\n",
       "    </tr>\n",
       "    <tr>\n",
       "      <th>4</th>\n",
       "      <td>0.20</td>\n",
       "      <td>4</td>\n",
       "      <td>0.800000</td>\n",
       "      <td>0</td>\n",
       "    </tr>\n",
       "  </tbody>\n",
       "</table>\n",
       "</div>"
      ],
      "text/plain": [
       "   top_site_share  max_diff  top_site_time_share  num_of_small_time\n",
       "0            0.60        49             1.000000                  0\n",
       "1            0.25      1504             0.000000                  1\n",
       "2            0.40      1917             0.048841                  3\n",
       "3            0.25      1460             0.004978                  1\n",
       "4            0.20         4             0.800000                  0"
      ]
     },
     "execution_count": 8,
     "metadata": {},
     "output_type": "execute_result"
    }
   ],
   "source": [
    "#загрузка дополнительных признаков\n",
    "with open(os.path.join(PATH_TO_DATA,'selected_features_150users.pkl'), 'rb') as f:\n",
    "    additional_features = pickle.load(f)\n",
    "\n",
    "additional_features.head()"
   ]
  },
  {
   "cell_type": "code",
   "execution_count": 9,
   "metadata": {
    "collapsed": false,
    "scrolled": true
   },
   "outputs": [
    {
     "data": {
      "text/html": [
       "<div>\n",
       "<style>\n",
       "    .dataframe thead tr:only-child th {\n",
       "        text-align: right;\n",
       "    }\n",
       "\n",
       "    .dataframe thead th {\n",
       "        text-align: left;\n",
       "    }\n",
       "\n",
       "    .dataframe tbody tr th {\n",
       "        vertical-align: top;\n",
       "    }\n",
       "</style>\n",
       "<table border=\"1\" class=\"dataframe\">\n",
       "  <thead>\n",
       "    <tr style=\"text-align: right;\">\n",
       "      <th></th>\n",
       "      <th>top_site_share</th>\n",
       "      <th>max_diff</th>\n",
       "      <th>top_site_time_share</th>\n",
       "      <th>num_of_small_time</th>\n",
       "    </tr>\n",
       "  </thead>\n",
       "  <tbody>\n",
       "    <tr>\n",
       "      <th>0</th>\n",
       "      <td>0.777572</td>\n",
       "      <td>-0.170535</td>\n",
       "      <td>1.591245</td>\n",
       "      <td>-0.695077</td>\n",
       "    </tr>\n",
       "    <tr>\n",
       "      <th>1</th>\n",
       "      <td>-0.432798</td>\n",
       "      <td>-0.033670</td>\n",
       "      <td>-0.964353</td>\n",
       "      <td>0.067126</td>\n",
       "    </tr>\n",
       "    <tr>\n",
       "      <th>2</th>\n",
       "      <td>0.085932</td>\n",
       "      <td>0.005179</td>\n",
       "      <td>-0.839536</td>\n",
       "      <td>1.591531</td>\n",
       "    </tr>\n",
       "    <tr>\n",
       "      <th>3</th>\n",
       "      <td>-0.432798</td>\n",
       "      <td>-0.037809</td>\n",
       "      <td>-0.951632</td>\n",
       "      <td>0.067126</td>\n",
       "    </tr>\n",
       "    <tr>\n",
       "      <th>4</th>\n",
       "      <td>-0.605708</td>\n",
       "      <td>-0.174768</td>\n",
       "      <td>1.080126</td>\n",
       "      <td>-0.695077</td>\n",
       "    </tr>\n",
       "  </tbody>\n",
       "</table>\n",
       "</div>"
      ],
      "text/plain": [
       "   top_site_share  max_diff  top_site_time_share  num_of_small_time\n",
       "0        0.777572 -0.170535             1.591245          -0.695077\n",
       "1       -0.432798 -0.033670            -0.964353           0.067126\n",
       "2        0.085932  0.005179            -0.839536           1.591531\n",
       "3       -0.432798 -0.037809            -0.951632           0.067126\n",
       "4       -0.605708 -0.174768             1.080126          -0.695077"
      ]
     },
     "execution_count": 9,
     "metadata": {},
     "output_type": "execute_result"
    }
   ],
   "source": [
    "additional_features_norm = additional_features.apply(norm)\n",
    "additional_features_norm.head()"
   ]
  },
  {
   "cell_type": "code",
   "execution_count": 236,
   "metadata": {
    "collapsed": false
   },
   "outputs": [
    {
     "data": {
      "text/plain": [
       "LogisticRegression(C=1, class_weight=None, dual=False, fit_intercept=True,\n",
       "          intercept_scaling=1, max_iter=100, multi_class='ovr', n_jobs=-1,\n",
       "          penalty='l2', random_state=17, solver='liblinear', tol=0.0001,\n",
       "          verbose=0, warm_start=False)"
      ]
     },
     "execution_count": 236,
     "metadata": {},
     "output_type": "execute_result"
    }
   ],
   "source": [
    "#логит на матрице частот слов, основных признаках и дополнительных\n",
    "X_sparse_150user_extended2 = hstack([X_sparse_150user_extended,additional_features_norm]).tocsr()\n",
    "X_train, X_valid, y_train, y_valid = train_test_split(X_sparse_150user_extended2, y_150users, \n",
    "                                                      test_size=0.3, \n",
    "                                                      random_state=17, stratify=y_150users)\n",
    "\n",
    "logit_extended2 = LogisticRegression(C=1,multi_class='ovr',n_jobs=-1,random_state=17)\n",
    "logit_extended2.fit(X_train, y_train)"
   ]
  },
  {
   "cell_type": "code",
   "execution_count": 238,
   "metadata": {
    "collapsed": false,
    "scrolled": true
   },
   "outputs": [
    {
     "data": {
      "text/plain": [
       "0.95984048013781431"
      ]
     },
     "execution_count": 238,
     "metadata": {},
     "output_type": "execute_result"
    }
   ],
   "source": [
    "mean_roc_auc_extended2 = mean_roc_auc(y_valid,X_valid,logit_extended2)\n",
    "mean_roc_auc_extended2"
   ]
  },
  {
   "cell_type": "code",
   "execution_count": 28,
   "metadata": {
    "collapsed": false
   },
   "outputs": [],
   "source": [
    "#загрука матриц частот сайтов (\"мешка слов\") для ширины окна 5 и длины сессии 15\n",
    "with open(os.path.join(PATH_TO_DATA, 'X_sparse_150users_s15_w5.pkl'), 'rb') as X_sparse_150users_pkl:\n",
    "    X_sparse_150users_s15_w5 = pickle.load(X_sparse_150users_pkl)\n",
    "with open(os.path.join(PATH_TO_DATA, 'y_150users_s15_w5.pkl'), 'rb') as y_150users_pkl:\n",
    "    y_150users_s15_w5 = pickle.load(y_150users_pkl)"
   ]
  },
  {
   "cell_type": "code",
   "execution_count": 31,
   "metadata": {
    "collapsed": false,
    "scrolled": false
   },
   "outputs": [
    {
     "data": {
      "text/html": [
       "<div>\n",
       "<style>\n",
       "    .dataframe thead tr:only-child th {\n",
       "        text-align: right;\n",
       "    }\n",
       "\n",
       "    .dataframe thead th {\n",
       "        text-align: left;\n",
       "    }\n",
       "\n",
       "    .dataframe tbody tr th {\n",
       "        vertical-align: top;\n",
       "    }\n",
       "</style>\n",
       "<table border=\"1\" class=\"dataframe\">\n",
       "  <thead>\n",
       "    <tr style=\"text-align: right;\">\n",
       "      <th></th>\n",
       "      <th>session_timespan</th>\n",
       "      <th>#unique_sites</th>\n",
       "      <th>start_hour</th>\n",
       "      <th>day_of_week</th>\n",
       "    </tr>\n",
       "  </thead>\n",
       "  <tbody>\n",
       "    <tr>\n",
       "      <th>0</th>\n",
       "      <td>84</td>\n",
       "      <td>7</td>\n",
       "      <td>8</td>\n",
       "      <td>4</td>\n",
       "    </tr>\n",
       "    <tr>\n",
       "      <th>1</th>\n",
       "      <td>1668</td>\n",
       "      <td>10</td>\n",
       "      <td>8</td>\n",
       "      <td>4</td>\n",
       "    </tr>\n",
       "    <tr>\n",
       "      <th>2</th>\n",
       "      <td>1637</td>\n",
       "      <td>10</td>\n",
       "      <td>8</td>\n",
       "      <td>4</td>\n",
       "    </tr>\n",
       "    <tr>\n",
       "      <th>3</th>\n",
       "      <td>3593</td>\n",
       "      <td>7</td>\n",
       "      <td>8</td>\n",
       "      <td>4</td>\n",
       "    </tr>\n",
       "    <tr>\n",
       "      <th>4</th>\n",
       "      <td>2029</td>\n",
       "      <td>7</td>\n",
       "      <td>8</td>\n",
       "      <td>4</td>\n",
       "    </tr>\n",
       "  </tbody>\n",
       "</table>\n",
       "</div>"
      ],
      "text/plain": [
       "   session_timespan  #unique_sites  start_hour  day_of_week\n",
       "0                84              7           8            4\n",
       "1              1668             10           8            4\n",
       "2              1637             10           8            4\n",
       "3              3593              7           8            4\n",
       "4              2029              7           8            4"
      ]
     },
     "execution_count": 31,
     "metadata": {},
     "output_type": "execute_result"
    }
   ],
   "source": [
    "#загрузка основных признаков для ширины окна 5 и длины сессии 15\n",
    "with open(os.path.join(PATH_TO_DATA,'new_features_150users_s15_w5.pkl'), 'rb') as f:\n",
    "    main_features_s15_w5 = pickle.load(f)\n",
    "\n",
    "main_features_s15_w5.head()"
   ]
  },
  {
   "cell_type": "code",
   "execution_count": 32,
   "metadata": {
    "collapsed": false
   },
   "outputs": [
    {
     "data": {
      "text/html": [
       "<div>\n",
       "<style>\n",
       "    .dataframe thead tr:only-child th {\n",
       "        text-align: right;\n",
       "    }\n",
       "\n",
       "    .dataframe thead th {\n",
       "        text-align: left;\n",
       "    }\n",
       "\n",
       "    .dataframe tbody tr th {\n",
       "        vertical-align: top;\n",
       "    }\n",
       "</style>\n",
       "<table border=\"1\" class=\"dataframe\">\n",
       "  <thead>\n",
       "    <tr style=\"text-align: right;\">\n",
       "      <th></th>\n",
       "      <th>top_site_share</th>\n",
       "      <th>max_diff</th>\n",
       "      <th>top_site_time_share</th>\n",
       "      <th>num_of_small_time</th>\n",
       "    </tr>\n",
       "  </thead>\n",
       "  <tbody>\n",
       "    <tr>\n",
       "      <th>0</th>\n",
       "      <td>0.571429</td>\n",
       "      <td>49</td>\n",
       "      <td>0.606383</td>\n",
       "      <td>1</td>\n",
       "    </tr>\n",
       "    <tr>\n",
       "      <th>1</th>\n",
       "      <td>0.400000</td>\n",
       "      <td>1504</td>\n",
       "      <td>0.029940</td>\n",
       "      <td>1</td>\n",
       "    </tr>\n",
       "    <tr>\n",
       "      <th>2</th>\n",
       "      <td>0.300000</td>\n",
       "      <td>1504</td>\n",
       "      <td>0.013309</td>\n",
       "      <td>3</td>\n",
       "    </tr>\n",
       "    <tr>\n",
       "      <th>3</th>\n",
       "      <td>0.285714</td>\n",
       "      <td>1917</td>\n",
       "      <td>0.027424</td>\n",
       "      <td>3</td>\n",
       "    </tr>\n",
       "    <tr>\n",
       "      <th>4</th>\n",
       "      <td>0.285714</td>\n",
       "      <td>1917</td>\n",
       "      <td>0.046577</td>\n",
       "      <td>3</td>\n",
       "    </tr>\n",
       "  </tbody>\n",
       "</table>\n",
       "</div>"
      ],
      "text/plain": [
       "   top_site_share  max_diff  top_site_time_share  num_of_small_time\n",
       "0        0.571429        49             0.606383                  1\n",
       "1        0.400000      1504             0.029940                  1\n",
       "2        0.300000      1504             0.013309                  3\n",
       "3        0.285714      1917             0.027424                  3\n",
       "4        0.285714      1917             0.046577                  3"
      ]
     },
     "execution_count": 32,
     "metadata": {},
     "output_type": "execute_result"
    }
   ],
   "source": [
    "#загрузка дополнительных признаков для ширины окна 5 и длины сессии 15\n",
    "with open(os.path.join(PATH_TO_DATA,'selected_features_150users_s15_w5.pkl'), 'rb') as f:\n",
    "    additional_features_s15_w5 = pickle.load(f)\n",
    "\n",
    "additional_features_s15_w5.head()"
   ]
  },
  {
   "cell_type": "code",
   "execution_count": 33,
   "metadata": {
    "collapsed": true
   },
   "outputs": [],
   "source": [
    "#нормализация признаков\n",
    "main_features_s15_w5_norm = main_features_s15_w5.apply(norm)\n",
    "additional_features_s15_w5_norm = additional_features_s15_w5.apply(norm)"
   ]
  },
  {
   "cell_type": "code",
   "execution_count": 34,
   "metadata": {
    "collapsed": true
   },
   "outputs": [],
   "source": [
    "#добавление основных признаков\n",
    "X_sparse_150users15_w5_extended = hstack([X_sparse_150users_s15_w5,main_features_s15_w5_norm]).tocsr()"
   ]
  },
  {
   "cell_type": "code",
   "execution_count": 35,
   "metadata": {
    "collapsed": true
   },
   "outputs": [],
   "source": [
    "#добавление дополнительных признаков\n",
    "X_sparse_150users15_w5_extended2 = hstack([X_sparse_150users15_w5_extended,additional_features_s15_w5_norm]).tocsr()"
   ]
  },
  {
   "cell_type": "code",
   "execution_count": 38,
   "metadata": {
    "collapsed": false
   },
   "outputs": [
    {
     "data": {
      "text/plain": [
       "LogisticRegression(C=1, class_weight=None, dual=False, fit_intercept=True,\n",
       "          intercept_scaling=1, max_iter=100, multi_class='ovr', n_jobs=-1,\n",
       "          penalty='l2', random_state=17, solver='liblinear', tol=0.0001,\n",
       "          verbose=0, warm_start=False)"
      ]
     },
     "execution_count": 38,
     "metadata": {},
     "output_type": "execute_result"
    }
   ],
   "source": [
    "#логит на матрице частот слов, основных признаках и дополнительных, для ширины окна 5 и длины сессии 15\n",
    "X_train, X_valid, y_train, y_valid = train_test_split(X_sparse_150users15_w5_extended2, y_150users_s15_w5, \n",
    "                                                      test_size=0.3, \n",
    "                                                      random_state=17, stratify=y_150users_s15_w5)\n",
    "\n",
    "logit_extended_s15_w5= LogisticRegression(C=1,multi_class='ovr',n_jobs=-1,random_state=17)\n",
    "logit_extended_s15_w5.fit(X_train, y_train)"
   ]
  },
  {
   "cell_type": "code",
   "execution_count": 43,
   "metadata": {
    "collapsed": false
   },
   "outputs": [
    {
     "data": {
      "text/plain": [
       "0.98884204305798373"
      ]
     },
     "execution_count": 43,
     "metadata": {},
     "output_type": "execute_result"
    }
   ],
   "source": [
    "mean_roc_auc_extended_s15_w5 = mean_roc_auc(y_valid,X_valid,logit_extended_s15_w5)\n",
    "mean_roc_auc_extended_s15_w5"
   ]
  },
  {
   "cell_type": "code",
   "execution_count": null,
   "metadata": {
    "collapsed": true
   },
   "outputs": [],
   "source": []
  }
 ],
 "metadata": {
  "anaconda-cloud": {},
  "kernelspec": {
   "display_name": "Python 2",
   "language": "python",
   "name": "python2"
  },
  "language_info": {
   "codemirror_mode": {
    "name": "ipython",
    "version": 2
   },
   "file_extension": ".py",
   "mimetype": "text/x-python",
   "name": "python",
   "nbconvert_exporter": "python",
   "pygments_lexer": "ipython2",
   "version": "2.7.13"
  }
 },
 "nbformat": 4,
 "nbformat_minor": 1
}
